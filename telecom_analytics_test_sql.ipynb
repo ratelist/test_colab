{
  "nbformat": 4,
  "nbformat_minor": 0,
  "metadata": {
    "colab": {
      "provenance": [],
      "authorship_tag": "ABX9TyMUv1w1W2miY1PZgZTVLCJG",
      "include_colab_link": true
    },
    "kernelspec": {
      "name": "python3",
      "display_name": "Python 3"
    },
    "language_info": {
      "name": "python"
    }
  },
  "cells": [
    {
      "cell_type": "markdown",
      "metadata": {
        "id": "view-in-github",
        "colab_type": "text"
      },
      "source": [
        "<a href=\"https://colab.research.google.com/github/ratelist/test_colab/blob/main/telecom_analytics_test_sql.ipynb\" target=\"_parent\"><img src=\"https://colab.research.google.com/assets/colab-badge.svg\" alt=\"Open In Colab\"/></a>"
      ]
    },
    {
      "cell_type": "markdown",
      "source": [
        "# Заливка данных"
      ],
      "metadata": {
        "id": "Qtev7Q0r5byM"
      }
    },
    {
      "cell_type": "markdown",
      "source": [
        "## Установка postges"
      ],
      "metadata": {
        "id": "YUt9xcfT5lcs"
      }
    },
    {
      "cell_type": "code",
      "source": [],
      "metadata": {
        "id": "NDg90aYI6yml"
      },
      "execution_count": null,
      "outputs": []
    }
  ]
}